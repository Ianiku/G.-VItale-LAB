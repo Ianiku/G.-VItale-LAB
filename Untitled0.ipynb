{
  "nbformat": 4,
  "nbformat_minor": 0,
  "metadata": {
    "colab": {
      "name": "Untitled0.ipynb",
      "provenance": [],
      "authorship_tag": "ABX9TyPwNTO3eSkWkjs7MUoUXhsx",
      "include_colab_link": true
    },
    "kernelspec": {
      "name": "python3",
      "display_name": "Python 3"
    }
  },
  "cells": [
    {
      "cell_type": "markdown",
      "metadata": {
        "id": "view-in-github",
        "colab_type": "text"
      },
      "source": [
        "<a href=\"https://colab.research.google.com/github/Ianiku/G.-VItale-LAB/blob/main/Untitled0.ipynb\" target=\"_parent\"><img src=\"https://colab.research.google.com/assets/colab-badge.svg\" alt=\"Open In Colab\"/></a>"
      ]
    },
    {
      "cell_type": "markdown",
      "metadata": {
        "id": "6zzoFJZm8Hy-"
      },
      "source": [
        ""
      ]
    },
    {
      "cell_type": "markdown",
      "metadata": {
        "id": "xGc8rGn_8Jt9"
      },
      "source": [
        "Albert Einstein *La logica ti porterà da A a B. L' immaginazione ti porterà ovunque.*\r\n",
        "\r\n",
        "# Corso IFTS  Tecnico per la sicurezza delle reti e dei sistemi It Security Specialist - 2021            (https ://www.scuolalatecnica.it/ifts)\r\n",
        "\r\n",
        "##   Corso di logica fuzzy\r\n",
        "\r\n",
        "L' obbiettivo di questo foglio di calcolo è quello di rispondere in maniera piu' completa possibile ai seguenti punti:\r\n",
        "\r\n",
        "\r\n",
        "_[x] Creare un jupyter notebook\r\n",
        "\r\n",
        "_[x] Cenni storici sulla logica\r\n",
        "\r\n",
        "_[x] Implementare i connettivi logici come funzioni python\r\n",
        "\r\n",
        "_[x] Testare le funzioni \r\n",
        "\r\n",
        "_[x] Implementare una funzione che stampa la tabella di verità di una formula\r\n",
        "\r\n",
        "_[x]Stampare la funzione di verità della seguente formula\r\n",
        "\r\n",
        "_[x] Pubblicare il notebook su una repository di Github\r\n",
        "\r\n",
        "\r\n",
        "\r\n",
        "\r\n",
        "\r\n"
      ]
    },
    {
      "cell_type": "code",
      "metadata": {
        "id": "hdVvYMWBVvq7"
      },
      "source": [
        ""
      ],
      "execution_count": null,
      "outputs": []
    },
    {
      "cell_type": "markdown",
      "metadata": {
        "id": "hX_5spfdVzeK"
      },
      "source": [
        "Connettivo OR"
      ]
    },
    {
      "cell_type": "code",
      "metadata": {
        "colab": {
          "base_uri": "https://localhost:8080/",
          "height": 129
        },
        "id": "H_rf6L1YV2ji",
        "outputId": "6f58e659-dde3-4463-9b9f-1c7347927714"
      },
      "source": [
        "valori possibili = (False, True)\r\n",
        "\r\n",
        "for A in valori_possibili:\r\n",
        "  for B in valori_possibili:\r\n",
        "    print(f' {A} OR {B} = {A or B}')"
      ],
      "execution_count": null,
      "outputs": [
        {
          "output_type": "error",
          "ename": "SyntaxError",
          "evalue": "ignored",
          "traceback": [
            "\u001b[0;36m  File \u001b[0;32m\"<ipython-input-4-7c52ccd9ec83>\"\u001b[0;36m, line \u001b[0;32m1\u001b[0m\n\u001b[0;31m    valori possibili = (False, True)\u001b[0m\n\u001b[0m                   ^\u001b[0m\n\u001b[0;31mSyntaxError\u001b[0m\u001b[0;31m:\u001b[0m invalid syntax\n"
          ]
        }
      ]
    },
    {
      "cell_type": "markdown",
      "metadata": {
        "id": "R1jN9yXnXfyi"
      },
      "source": [
        "False OR False = Flase\r\n",
        "False OR True = True\r\n",
        "True OR False = True\r\n",
        "True OR False = True"
      ]
    },
    {
      "cell_type": "markdown",
      "metadata": {
        "id": "6t2F5iuXYHSB"
      },
      "source": [
        "Connettivo NOT\r\n",
        "\r\n",
        "valori_possibili = (False,True)\r\n",
        "\r\n",
        "for A in valori-possibili:\r\n",
        "  print(f' NOT {A} = {not A} ')"
      ]
    },
    {
      "cell_type": "markdown",
      "metadata": {
        "id": "6DE_j6uGYmya"
      },
      "source": [
        "NOT False = True\r\n",
        "NOT True = False"
      ]
    },
    {
      "cell_type": "markdown",
      "metadata": {
        "id": "SJ9Yb0xWY3Nx"
      },
      "source": [
        "COnnettivo AND via NOT e OR"
      ]
    },
    {
      "cell_type": "code",
      "metadata": {
        "id": "JBiw999tY_iu"
      },
      "source": [
        "valori-possibili = (False, True)\r\n",
        "\r\n",
        "for A in valori_possbili:\r\n",
        "  for B in valori_possibili:\r\n",
        "    print (f'{A} AND {B} = {not ( (not A) or (not B) )} ' )"
      ],
      "execution_count": null,
      "outputs": []
    },
    {
      "cell_type": "markdown",
      "metadata": {
        "id": "xMvoEQIuZYWp"
      },
      "source": [
        "Connettivo XOR\r\n"
      ]
    },
    {
      "cell_type": "code",
      "metadata": {
        "id": "Ke2GU3dEcvBP"
      },
      "source": [
        "valori-possibili = (False, True)\r\n",
        "\r\n",
        "for A in valori-possibili:\r\n",
        "  for B in valori-possibili:\r\n",
        "    print(f' {A} XOR {B} = {(not A and B) or (A and not B)} ')"
      ],
      "execution_count": null,
      "outputs": []
    },
    {
      "cell_type": "markdown",
      "metadata": {
        "id": "fbZvgTKddbi_"
      },
      "source": [
        "False XOR False = False\r\n",
        "False XOR True = True\r\n",
        "True XOR False = True\r\n",
        "True XOR True = False"
      ]
    },
    {
      "cell_type": "markdown",
      "metadata": {
        "id": "h6aBWWS9d1Av"
      },
      "source": [
        "Connettivo ->"
      ]
    },
    {
      "cell_type": "code",
      "metadata": {
        "id": "SZmgnne4d4x7"
      },
      "source": [
        "def freccia(ipotesi, tesi):\r\n",
        "  return (not ipotesi or tesi)"
      ],
      "execution_count": null,
      "outputs": []
    },
    {
      "cell_type": "code",
      "metadata": {
        "id": "Y_jIb4neeDgH"
      },
      "source": [
        "valori-possibili = (False, True)\r\n",
        "\r\n",
        "for A in valori-possibili:\r\n",
        "  for B in valori_possibili:\r\n",
        "    print(f'{A} -> {B}  = {freccia(A,B)}')"
      ],
      "execution_count": null,
      "outputs": []
    },
    {
      "cell_type": "markdown",
      "metadata": {
        "id": "AYU9F2wJemRP"
      },
      "source": [
        "False -> False = True\r\n",
        "False -> True = True\r\n",
        "True -> False = False\r\n",
        "True -> True = True"
      ]
    },
    {
      "cell_type": "markdown",
      "metadata": {
        "id": "aH_ARt8ufAW2"
      },
      "source": [
        "Libreria funzioni connettivi"
      ]
    },
    {
      "cell_type": "code",
      "metadata": {
        "id": "n1eXCHZPfFBe"
      },
      "source": [
        "def e(var1,var2):\r\n",
        "  return var1 and var2\r\n",
        "\r\n",
        "  def o(var1,var2):\r\n",
        "    return var1 or var2\r\n",
        "\r\n",
        "    def freccia(ipotesi,tesi):\r\n",
        "      return (not ipotesi or tesi)\r\n",
        "\r\n",
        "      def oppure(var1,var2):\r\n",
        "        return (not var1 and var2) or (var1 and not var2)"
      ],
      "execution_count": null,
      "outputs": []
    },
    {
      "cell_type": "code",
      "metadata": {
        "id": "D5u7r7A7f4Bv"
      },
      "source": [
        "def stampa-tabella(formula):\r\n",
        "  valori-possibili = (False, True)\r\n",
        "\r\n",
        "  for A in valori_possibili:\r\n",
        "    for B in valori_possibili\r\n",
        "       print(f'{formula(A,B)}')\r\n"
      ],
      "execution_count": null,
      "outputs": []
    },
    {
      "cell_type": "code",
      "metadata": {
        "id": "z2jjzN-phOy-"
      },
      "source": [
        "stampa_tabella(oppure)"
      ],
      "execution_count": null,
      "outputs": []
    },
    {
      "cell_type": "markdown",
      "metadata": {
        "id": "k_v4AuJghehm"
      },
      "source": [
        "False\r\n",
        "True\r\n",
        "True\r\n",
        "False"
      ]
    },
    {
      "cell_type": "code",
      "metadata": {
        "id": "scd4xGSFhloe"
      },
      "source": [
        ""
      ],
      "execution_count": null,
      "outputs": []
    }
  ]
}